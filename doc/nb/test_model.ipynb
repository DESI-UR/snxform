{
 "cells": [
  {
   "cell_type": "markdown",
   "id": "62d7ee37-8463-4eb2-bf2b-b6d49aa30130",
   "metadata": {},
   "source": [
    "# Test Classification"
   ]
  },
  {
   "cell_type": "code",
   "execution_count": 1,
   "id": "64abd449-e234-4d1a-afd3-7aa3cbcea04e",
   "metadata": {
    "tags": []
   },
   "outputs": [],
   "source": [
    "import snxform\n",
    "from snxform import io, preproc\n",
    "from snxform.network import ViT\n",
    "\n",
    "import numpy as np\n",
    "import matplotlib.pyplot as plt\n",
    "\n",
    "import os\n",
    "from urllib import request\n",
    "import json\n",
    "import torch"
   ]
  },
  {
   "cell_type": "markdown",
   "id": "a2fc53e3-cfed-48b3-b460-06bc7d43203e",
   "metadata": {},
   "source": [
    "## Initialize PyTorch Model\n",
    "\n",
    "Load a `ViT` model from `snxform.network` using previously trained weights."
   ]
  },
  {
   "cell_type": "code",
   "execution_count": 2,
   "id": "1c4b1635-82e5-4f7d-9c1d-d9ee731ac6fa",
   "metadata": {
    "tags": []
   },
   "outputs": [
    {
     "name": "stdout",
     "output_type": "stream",
     "text": [
      "ViT IS NOW IN cuda\n",
      "<All keys matched successfully>, model loaded\n"
     ]
    }
   ],
   "source": [
    "torch.manual_seed(4);\n",
    "\n",
    "paramfile = os.path.join(snxform.src_path, 'etc/vit_model_V2_parameters.json')\n",
    "\n",
    "with open(paramfile, 'r') as f:\n",
    "    modelpars = json.load(f)\n",
    "\n",
    "device = torch.device('cuda' if torch.cuda.is_available() else 'cpu')\n",
    "\n",
    "model = ViT(\n",
    "    cl=modelpars['cl'], \n",
    "    n_patches=modelpars['patches'], \n",
    "    n_blocks=modelpars['n_blocks'], \n",
    "    hidden_d = modelpars['hidden_d'],\n",
    "    n_heads = modelpars['n_heads'],\n",
    "    out_d = 6).to(device)\n",
    "\n",
    "statefile = '/global/homes/s/sybenzvi/desi/spectra_nn/desiWorkflow/v2/model/vit_model_V2_epoch26.pt'\n",
    "# statefile = os.path.join(snxform.src_path, 'etc/vit_model_V2_epoch26.pt')\n",
    "\n",
    "model_state_dict = torch.load(statefile, map_location=device)\n",
    "state = model.load_state_dict(model_state_dict)\n",
    "print(f'{state}, model loaded')"
   ]
  },
  {
   "cell_type": "markdown",
   "id": "1e1590f2-7979-468b-a206-b2ec57f2dc45",
   "metadata": {
    "tags": []
   },
   "source": [
    "## Read Spectra\n",
    "\n",
    "This will read some spectra, applying basic target selection to get (primarily) BGS galaxies."
   ]
  },
  {
   "cell_type": "code",
   "execution_count": 20,
   "id": "5de2810e-ad24-43ac-a33d-a224be5efe65",
   "metadata": {
    "tags": []
   },
   "outputs": [
    {
     "name": "stdout",
     "output_type": "stream",
     "text": [
      "INFO:spectra.py:391:read_spectra: iotime 0.510 sec to read spectra-6-22522-thru20211023.fits at 2024-05-21T06:23:08.153390\n"
     ]
    }
   ],
   "source": [
    "cspectra = io.read_desi_spectra('/global/cfs/cdirs/desi/spectro/redux/daily/tiles/cumulative/22522/20211023/spectra-6-22522-thru20211023.fits')"
   ]
  },
  {
   "cell_type": "code",
   "execution_count": 21,
   "id": "d6708327-6bed-4b40-bb12-794daae7a9ae",
   "metadata": {
    "tags": []
   },
   "outputs": [],
   "source": [
    "#- Extract the data\n",
    "wave = cspectra.wave['brz']\n",
    "flux = cspectra.flux['brz']\n",
    "ivar = cspectra.ivar['brz']\n",
    "\n",
    "fmap = cspectra.fibermap\n",
    "expfmap = cspectra.exp_fibermap"
   ]
  },
  {
   "cell_type": "code",
   "execution_count": 22,
   "id": "120a1b52-b52c-43f3-b00d-fc6aaa09c60e",
   "metadata": {
    "tags": []
   },
   "outputs": [],
   "source": [
    "#- Clean sky lines and rebin.\n",
    "newflux = preproc.remove_sky_lines(wave, flux, ivar)\n",
    "newwave, newflux, newivar = preproc.rebin_flux(wave, newflux, ivar, nbins=3600)\n",
    "\n",
    "#- Rescale the flux (not strictly necessary).\n",
    "flux_rescaled = preproc.rescale_flux(newflux)"
   ]
  },
  {
   "cell_type": "markdown",
   "id": "0102efa8-63d9-4e4e-a9c7-c5db074b4d3e",
   "metadata": {},
   "source": [
    "## Apply Model Predictions\n",
    "\n",
    "Convert the data into a tensor and apply the model prediction.\n",
    "The output is a PyTorch `Tensor` containing the categorical probability that a given flux is a galaxy, SN Ia, etc."
   ]
  },
  {
   "cell_type": "code",
   "execution_count": 23,
   "id": "03a7ee64-d6cd-4858-8a33-73ec503b3e82",
   "metadata": {
    "tags": []
   },
   "outputs": [],
   "source": [
    "def predict_data(model, flux, device):\n",
    "    model.eval()\n",
    "    \n",
    "    if flux.ndim == 2:\n",
    "        m, n = flux_rescaled.shape\n",
    "        x = torch.Tensor(np.reshape(flux, (m, 1, n)))\n",
    "    elif flux.ndim == 3:\n",
    "        x = torch.Tensor(flux)\n",
    "    else:\n",
    "        raise ValueError('Flux needs to be of shape (m,1,n)')\n",
    "    \n",
    "    with torch.no_grad():\n",
    "        x.to(device)\n",
    "        output = model(x)\n",
    "    \n",
    "    return output\n",
    "\n",
    "y_pred = predict_data(model, flux_rescaled, device)\n",
    "y_val = y_pred.detach().cpu().numpy()"
   ]
  },
  {
   "cell_type": "code",
   "execution_count": 24,
   "id": "035cc742-b49e-401e-80dd-76ce9cbb2104",
   "metadata": {
    "tags": []
   },
   "outputs": [
    {
     "data": {
      "text/html": [
       "&lt;Column name=&apos;TARGETID&apos; dtype=&apos;int64&apos; length=1&gt;\n",
       "<table>\n",
       "<tr><td>39633321356951680</td></tr>\n",
       "</table>"
      ],
      "text/plain": [
       "<Column name='TARGETID' dtype='int64' length=1>\n",
       "39633321356951680"
      ]
     },
     "execution_count": 24,
     "metadata": {},
     "output_type": "execute_result"
    }
   ],
   "source": [
    "#- Extract the category predicted by the network.\n",
    "i = np.argmax(y_val, axis=1)\n",
    "\n",
    "#- Compute the max categorical probability for each prediction.\n",
    "y_max = np.max(y_val, axis=1)\n",
    "\n",
    "#- Select non-galaxy predictions where the network is confident.\n",
    "select = (i == 1) & (y_max > 0.999)\n",
    "fmap['TARGETID'][select]"
   ]
  },
  {
   "cell_type": "markdown",
   "id": "c51151ec-5756-4aef-8e9b-d43077a15459",
   "metadata": {},
   "source": [
    "## Plot the Selections\n",
    "\n",
    "The results should contain some transients.\n",
    "\n",
    "There may be false positives where the continuum fools the network."
   ]
  },
  {
   "cell_type": "code",
   "execution_count": 25,
   "id": "d6216663-d687-4d4d-871e-66d65a82d775",
   "metadata": {
    "tags": []
   },
   "outputs": [
    {
     "data": {
      "image/png": "[encoded data removed]",
      "text/plain": [
       "<Figure size 600x300 with 1 Axes>"
      ]
     },
     "metadata": {},
     "output_type": "display_data"
    }
   ],
   "source": [
    "N = np.sum(select)\n",
    "idx_sne = np.argwhere(select).flatten()\n",
    "\n",
    "fig, axes = plt.subplots(N, 1, figsize=(6, 3*N), sharex=True, tight_layout=True)\n",
    "for j, i_sn in enumerate(idx_sne):\n",
    "    \n",
    "    if N > 1:\n",
    "        ax = axes[j]\n",
    "        if j == 0:\n",
    "            ax.set(ylabel=r'flux [$10^{-17}$ erg s$^{-1}$ cm$^{-2}$ $\\AA^{-1}$')\n",
    "        elif j == N-1:\n",
    "            ax.set(xlabel=r'observed wavelength [$\\AA$]')\n",
    "    else:\n",
    "        ax = axes\n",
    "        ax.set(xlabel=r'observed wavelength [$\\AA$]',\n",
    "               ylabel=r'flux [$10^{-17}$ erg s$^{-1}$ cm$^{-2}$ $\\AA^{-1}$')\n",
    "        \n",
    "    ax.plot(wave, flux[i_sn])\n",
    "    ax.plot(newwave, newflux[i_sn], label=f'TARGETID: {fmap[\"TARGETID\"][i_sn]}')\n",
    "    ax.legend(loc='best')"
   ]
  },
  {
   "cell_type": "code",
   "execution_count": null,
   "id": "d4ef70ec-059c-4c6d-8cc0-76e5c21e5745",
   "metadata": {},
   "outputs": [],
   "source": []
  }
 ],
 "metadata": {
  "kernelspec": {
   "display_name": "pytorch-1.13.1",
   "language": "python",
   "name": "pytorch-1.13.1"
  },
  "language_info": {
   "codemirror_mode": {
    "name": "ipython",
    "version": 3
   },
   "file_extension": ".py",
   "mimetype": "text/x-python",
   "name": "python",
   "nbconvert_exporter": "python",
   "pygments_lexer": "ipython3",
   "version": "3.9.15"
  }
 },
 "nbformat": 4,
 "nbformat_minor": 5
}
